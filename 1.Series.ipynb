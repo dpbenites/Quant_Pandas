{
 "cells": [
  {
   "cell_type": "markdown",
   "metadata": {},
   "source": [
    "# Introdução aos Pandas\n",
    "\n",
    "\n",
    "\n",
    "Pandas é uma biblioteca de código aberto para Python que fornece estruturas de dados de alto desempenho e fáceis de usar, além de ferramentas de análise de dados. Seu principal objeto é o DataFrame, que permite a manipulação eficiente de dados em formato tabular, semelhante a uma planilha, com linhas e colunas rotuladas. O Pandas também oferece funcionalidades para ler e escrever dados em diversos formatos, como `CSV`, `Excel`, `SQL`, `JSON` entre outros, tornando-o uma ferramenta poderosa para análise e manipulação de dados em Python.\n",
    "\n",
    "---"
   ]
  },
  {
   "cell_type": "markdown",
   "metadata": {},
   "source": [
    "\n",
    "\n",
    "# Series\n",
    "\n",
    "O primeiro tipo de dado que aprenderemos é a Serie. Vamos importar Pandas e explorar tal objeto.\n",
    "\n",
    "A Serie é muito semelhante a uma matriz NumPy (na verdade, ela é construída em cima do objeto de matriz NumPy). O que diferencia a matriz NumPy de uma Série, é que uma Serie pode ter rótulos de eixos, o que significa que pode ser indexado por um rótulo, em vez de apenas uma localização numérica. Também não precisa manter dados numéricos, ele pode conter qualquer objeto Python arbitrário.\n",
    "\n",
    "Uma coisa importante é dizer que uma Serie está para uma coluna e a tabela para o dataFrame\n",
    "\n",
    "\n",
    "Vamos explorar este conceito através de alguns exemplos:\n",
    "\n",
    "\n",
    "--- "
   ]
  },
  {
   "cell_type": "markdown",
   "metadata": {},
   "source": [
    "### Criando uma Serie\n",
    "\n",
    "Você pode converter uma lista, numpy array ou dicionário para uma série:"
   ]
  },
  {
   "cell_type": "code",
   "execution_count": 11,
   "metadata": {},
   "outputs": [],
   "source": [
    "import pandas as pd\n",
    "import numpy as np\n",
    "\n",
    "\n",
    "##criando objetos\n",
    "\n",
    "labels = ['Alberto', 'Bianca' ,'Cristiano']\n",
    "\n",
    "minha_lista = [10 ,20 ,30]\n",
    "\n",
    "arr = np.array([10, 20, 30]) #array\n",
    "\n"
   ]
  },
  {
   "cell_type": "markdown",
   "metadata": {},
   "source": [
    "---\n",
    "**instanciando** utilizando `labels`:\n",
    "\n",
    "*Obs* : Repare que em `dtype: object` ele atribui como o tipo `object` que ocorre quando ele tiver lidando com alguma variável convertida para string\n",
    "\n",
    "Existem os índices `0`, `1`, `2`. Que são formas de localizar a linha daquela Serie\n"
   ]
  },
  {
   "cell_type": "code",
   "execution_count": 12,
   "metadata": {},
   "outputs": [
    {
     "data": {
      "text/plain": [
       "0      Alberto\n",
       "1       Bianca\n",
       "2    Cristiano\n",
       "dtype: object"
      ]
     },
     "execution_count": 12,
     "metadata": {},
     "output_type": "execute_result"
    }
   ],
   "source": [
    "\n",
    "pd.Series(labels)"
   ]
  },
  {
   "cell_type": "markdown",
   "metadata": {},
   "source": [
    "**Mudando o index** ..."
   ]
  },
  {
   "cell_type": "code",
   "execution_count": 13,
   "metadata": {},
   "outputs": [
    {
     "data": {
      "text/plain": [
       "10      Alberto\n",
       "20       Bianca\n",
       "30    Cristiano\n",
       "dtype: object"
      ]
     },
     "execution_count": 13,
     "metadata": {},
     "output_type": "execute_result"
    }
   ],
   "source": [
    "pd.Series(labels, index= minha_lista)\n"
   ]
  },
  {
   "cell_type": "markdown",
   "metadata": {},
   "source": [
    "---\n",
    "Usando **listas**: `minha_lista`"
   ]
  },
  {
   "cell_type": "code",
   "execution_count": 14,
   "metadata": {},
   "outputs": [
    {
     "data": {
      "text/plain": [
       "0    10\n",
       "1    20\n",
       "2    30\n",
       "dtype: int64"
      ]
     },
     "execution_count": 14,
     "metadata": {},
     "output_type": "execute_result"
    }
   ],
   "source": [
    "pd.Series(data=minha_lista)"
   ]
  },
  {
   "cell_type": "code",
   "execution_count": 15,
   "metadata": {},
   "outputs": [
    {
     "data": {
      "text/plain": [
       "Alberto      10\n",
       "Bianca       20\n",
       "Cristiano    30\n",
       "dtype: int64"
      ]
     },
     "execution_count": 15,
     "metadata": {},
     "output_type": "execute_result"
    }
   ],
   "source": [
    "pd.Series(minha_lista,labels)"
   ]
  },
  {
   "cell_type": "markdown",
   "metadata": {},
   "source": [
    "#### **NumPy Arrays**"
   ]
  },
  {
   "cell_type": "code",
   "execution_count": 16,
   "metadata": {},
   "outputs": [
    {
     "data": {
      "text/plain": [
       "0    10\n",
       "1    20\n",
       "2    30\n",
       "dtype: int64"
      ]
     },
     "execution_count": 16,
     "metadata": {},
     "output_type": "execute_result"
    }
   ],
   "source": [
    "pd.Series(arr)"
   ]
  },
  {
   "cell_type": "markdown",
   "metadata": {},
   "source": [
    "---\n",
    "---\n",
    "### **Dicionários**\n",
    "\n",
    "Dicionários são objetos que se adequam muito bem com Series e muito além disso, com DataFrames em pandas\n",
    "\n",
    "Como podemos perceber, as `chaves` serão índices \n"
   ]
  },
  {
   "cell_type": "code",
   "execution_count": 17,
   "metadata": {},
   "outputs": [
    {
     "data": {
      "text/plain": [
       "a    10\n",
       "b    20\n",
       "c    30\n",
       "dtype: int64"
      ]
     },
     "execution_count": 17,
     "metadata": {},
     "output_type": "execute_result"
    }
   ],
   "source": [
    "dicio = {'a':10, 'b':20, 'c': 30} #dicio\n",
    "\n",
    "pd.Series(dicio)"
   ]
  },
  {
   "cell_type": "markdown",
   "metadata": {},
   "source": [
    "### Exemplo com cotações: ..."
   ]
  },
  {
   "cell_type": "code",
   "execution_count": 19,
   "metadata": {},
   "outputs": [
    {
     "name": "stdout",
     "output_type": "stream",
     "text": [
      "2024-04-01    100.50\n",
      "2024-04-02    102.00\n",
      "2024-04-03     98.75\n",
      "2024-04-04    105.20\n",
      "2024-04-05    107.80\n",
      "Freq: D, dtype: float64\n"
     ]
    }
   ],
   "source": [
    "import pandas as pd\n",
    "\n",
    "# Datas dos registros\n",
    "datas = pd.date_range('2024-04-01', periods=5)\n",
    "\n",
    "# Cotações das ações\n",
    "cotacoes = [100.50, 102.00, 98.75, 105.20, 107.80]\n",
    "\n",
    "# Criando a série de cotações de ações\n",
    "serie_cotacoes = pd.Series(cotacoes, index=datas)\n",
    "\n",
    "print(serie_cotacoes)\n"
   ]
  },
  {
   "cell_type": "code",
   "execution_count": 20,
   "metadata": {},
   "outputs": [
    {
     "data": {
      "text/plain": [
       "DatetimeIndex(['2024-04-01', '2024-04-02', '2024-04-03', '2024-04-04',\n",
       "               '2024-04-05'],\n",
       "              dtype='datetime64[ns]', freq='D')"
      ]
     },
     "execution_count": 20,
     "metadata": {},
     "output_type": "execute_result"
    }
   ],
   "source": [
    "datas"
   ]
  },
  {
   "cell_type": "markdown",
   "metadata": {},
   "source": [
    "--- \n",
    "---\n",
    "## Usando um Índice\n",
    "\n",
    "A chave para usar uma Serie é entender seu índice. O Pandas faz uso desses nomes ou números de índice, permitindo pesquisas rápidas de informações (funciona como uma tabela de hash ou dicionário).\n",
    "\n",
    "Vamos ver alguns exemplos de como pegar informações de uma Serie. Vamos criar duas Series, ser1 e ser2:"
   ]
  },
  {
   "cell_type": "code",
   "execution_count": 23,
   "metadata": {},
   "outputs": [
    {
     "name": "stdout",
     "output_type": "stream",
     "text": [
      "Series s1: \n",
      " EUA         46\n",
      "Alemanha    37\n",
      "USSR        10\n",
      "Japão       16\n",
      "dtype: int64 \n",
      " \n",
      " \n",
      "Series s2 \n",
      " \n",
      "EUA         39\n",
      "Alemanha    36\n",
      "Italia       8\n",
      "Japão       12\n",
      "dtype: int64\n"
     ]
    }
   ],
   "source": [
    "import pandas as pd\n",
    "\n",
    "# Medalhas de ouro conquistadas por quatro países em duas edições diferentes dos Jogos Olímpicos\n",
    "ser1 = pd.Series([46, 37, 10, 16], index=['EUA', 'Alemanha', 'USSR', 'Japão'])\n",
    "ser2 = pd.Series([39, 36, 8, 12], index=['EUA', 'Alemanha', 'Italia', 'Japão'])\n",
    "\n",
    "print(f'Series s1: \\n {ser1} \\n \\n ')\n",
    "print(f'Series s2 \\n \\n{ser2}')\n",
    "                     "
   ]
  },
  {
   "cell_type": "markdown",
   "metadata": {},
   "source": [
    "\n",
    "#### Você pode especificar o **Index**...  e puxar o dado\n",
    "\n",
    "Vamos ver o que acontece"
   ]
  },
  {
   "cell_type": "code",
   "execution_count": 31,
   "metadata": {},
   "outputs": [
    {
     "name": "stdout",
     "output_type": "stream",
     "text": [
      "Chamando s1 índice EUA -->       46\n",
      "Chamando s1 índice Alemanha -->  37\n"
     ]
    }
   ],
   "source": [
    "print(f\"Chamando s1 índice EUA -->       {ser1['EUA']}\")\n",
    "\n",
    "print(f\"Chamando s1 índice Alemanha -->  {ser1['Alemanha'] }\")"
   ]
  },
  {
   "cell_type": "markdown",
   "metadata": {},
   "source": [
    "---\n",
    "### Múltiplos índices\n",
    "\n",
    "Se quisermos múltiplos índices, devemos colocar esses índices em uma lista"
   ]
  },
  {
   "cell_type": "code",
   "execution_count": 32,
   "metadata": {},
   "outputs": [
    {
     "data": {
      "text/plain": [
       "EUA         46\n",
       "Alemanha    37\n",
       "dtype: int64"
      ]
     },
     "execution_count": 32,
     "metadata": {},
     "output_type": "execute_result"
    }
   ],
   "source": [
    "ser1[['EUA', 'Alemanha']]"
   ]
  },
  {
   "cell_type": "markdown",
   "metadata": {},
   "source": [
    "As operações também são feitas com base no índice:\n",
    "\n",
    "Elas somam quem tem índice igual e caso não encontre um par, ela retorna `Nan`"
   ]
  },
  {
   "cell_type": "code",
   "execution_count": 33,
   "metadata": {},
   "outputs": [
    {
     "name": "stdout",
     "output_type": "stream",
     "text": [
      "Alemanha    73.0\n",
      "EUA         85.0\n",
      "Italia       NaN\n",
      "Japão       28.0\n",
      "USSR         NaN\n",
      "dtype: float64\n"
     ]
    }
   ],
   "source": [
    "Serie_soma = ser1 + ser2\n",
    "\n",
    "print(Serie_soma)"
   ]
  },
  {
   "cell_type": "code",
   "execution_count": 36,
   "metadata": {},
   "outputs": [
    {
     "name": "stdout",
     "output_type": "stream",
     "text": [
      "Soma:\n",
      "EUA         85\n",
      "Alemanha    73\n",
      "Italia      18\n",
      "Japão       28\n",
      "URSS        70\n",
      "dtype: int64\n",
      "\n",
      "Subtração:\n",
      "EUA          7\n",
      "Alemanha     1\n",
      "Italia       2\n",
      "Japão        4\n",
      "URSS       -30\n",
      "dtype: int64\n",
      "\n",
      "Divisão:\n",
      "EUA         1.179487\n",
      "Alemanha    1.027778\n",
      "Italia      1.250000\n",
      "Japão       1.333333\n",
      "URSS        0.400000\n",
      "dtype: float64\n",
      "\n",
      "Multiplicação:\n",
      "EUA         1794\n",
      "Alemanha    1332\n",
      "Italia        80\n",
      "Japão        192\n",
      "URSS        1000\n",
      "dtype: int64\n",
      "\n"
     ]
    }
   ],
   "source": [
    "\n",
    "\n",
    "# Medalhas de ouro conquistadas por quatro países em duas edições diferentes dos Jogos Olímpicos\n",
    "ser1 = pd.Series([46, 37, 10, 16, 20], index=['EUA', 'Alemanha', 'Italia', 'Japão', 'URSS'])\n",
    "ser2 = pd.Series([39, 36, 8, 12, 50], index=['EUA', 'Alemanha', 'Italia', 'Japão', 'URSS'])\n",
    "\n",
    "# Soma\n",
    "print(f\"Soma:\\n{ser1 + ser2}\\n\")\n",
    "\n",
    "# Subtração\n",
    "print(f\"Subtração:\\n{ser1 - ser2}\\n\")\n",
    "\n",
    "# Divisão\n",
    "print(f\"Divisão:\\n{ser1 / ser2}\\n\")\n",
    "\n",
    "# Multiplicação\n",
    "print(f\"Multiplicação:\\n{ser1 * ser2}\\n\")\n"
   ]
  },
  {
   "cell_type": "markdown",
   "metadata": {},
   "source": [
    "Continuamos falando de DataFrames \n"
   ]
  }
 ],
 "metadata": {
  "kernelspec": {
   "display_name": "base",
   "language": "python",
   "name": "python3"
  },
  "language_info": {
   "codemirror_mode": {
    "name": "ipython",
    "version": 3
   },
   "file_extension": ".py",
   "mimetype": "text/x-python",
   "name": "python",
   "nbconvert_exporter": "python",
   "pygments_lexer": "ipython3",
   "version": "3.11.5"
  }
 },
 "nbformat": 4,
 "nbformat_minor": 2
}
